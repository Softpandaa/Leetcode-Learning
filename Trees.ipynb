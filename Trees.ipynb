{
 "cells": [
  {
   "cell_type": "code",
   "execution_count": 1,
   "id": "4e138e83",
   "metadata": {},
   "outputs": [],
   "source": [
    "    # 226 Invert Binary Tree\n",
    "    def invertTree(self, root):\n",
    "        \"\"\"\n",
    "        :type root: Optional[TreeNode]\n",
    "        :rtype: Optional[TreeNode]\n",
    "        \"\"\"\n",
    "        if not root: return None\n",
    "        q = deque([root])\n",
    "        while q:\n",
    "            node = q.popleft()\n",
    "            node.left, node.right = node.right, node.left\n",
    "            if node.left: q.append(node.left)\n",
    "            if node.right: q.append(node.right)\n",
    "        return root"
   ]
  },
  {
   "cell_type": "code",
   "execution_count": null,
   "id": "0b89f310",
   "metadata": {},
   "outputs": [],
   "source": [
    "    # 104 Maximum Depth of Binary Tree\n",
    "    def maxDepth(self, root):\n",
    "        \"\"\"\n",
    "        :type root: Optional[TreeNode]\n",
    "        :rtype: int\n",
    "        \"\"\"\n",
    "        if not root: return 0\n",
    "        level = 0\n",
    "        q = deque([root])\n",
    "        while q:\n",
    "            \n",
    "            for i in range(len(q)):\n",
    "                node = q.popleft()\n",
    "                if node.left: q.append(node.left)\n",
    "                if node.right: q.append(node.right)\n",
    "            level += 1\n",
    "        return level"
   ]
  },
  {
   "cell_type": "code",
   "execution_count": null,
   "id": "3093fcba",
   "metadata": {},
   "outputs": [],
   "source": [
    "    # 543 Diameter of Binary Tree\n",
    "    \"\"\"Idea: Iterative DFS\n",
    "    Get the diameter of the node, compare it with the diameter of the left and right subtrees.\n",
    "    \"\"\"\n",
    "    def diameterOfBinaryTree(self, root):\n",
    "        self.res = 0\n",
    "        \"\"\"\n",
    "        :type root: Optional[TreeNode]\n",
    "        :rtype: int\n",
    "        \"\"\"\n",
    "        def dfs(curr):\n",
    "            if not curr: return 0\n",
    "            left = dfs(curr.left)\n",
    "            right = dfs(curr.right)\n",
    "            self.res = max(self.res, left+right)\n",
    "            return 1+max(left, right)\n",
    "        dfs(root)\n",
    "        return self.res"
   ]
  },
  {
   "cell_type": "code",
   "execution_count": null,
   "id": "c9a78079",
   "metadata": {},
   "outputs": [],
   "source": [
    "    # 110 Balanced Binary Tree\n",
    "\n",
    "    def isBalanced(self, root):\n",
    "        \"\"\"\n",
    "        :type root: Optional[TreeNode]\n",
    "        :rtype: bool\n",
    "        \"\"\"\n",
    "        def dfs(root):\n",
    "            if not root: return [True, 0]\n",
    "            left, right = dfs(root.left), dfs(root.right)\n",
    "            balanced = left[0] and right[0] and abs(left[1]-right[1]) <= 1\n",
    "            return [balanced, 1+max(left[1], right[1])]\n",
    "        return dfs(root)[0]"
   ]
  },
  {
   "cell_type": "code",
   "execution_count": 1,
   "id": "2fd52dc8",
   "metadata": {},
   "outputs": [],
   "source": [
    "    # 100 Same Tree\n",
    "    def isSameTree(self, p, q):\n",
    "        \"\"\"\n",
    "        :type p: Optional[TreeNode]\n",
    "        :type q: Optional[TreeNode]\n",
    "        :rtype: bool\n",
    "        \"\"\"\n",
    "        q1 = deque([p])\n",
    "        q2 = deque([q])\n",
    "        while q1 and q2:\n",
    "            for _ in range(len(q1)):\n",
    "                nodeP = q1.popleft()\n",
    "                nodeQ = q2.popleft()\n",
    "                if nodeP is None and nodeQ is None: continue\n",
    "                if nodeP is None or nodeQ is None or nodeP.val != nodeQ.val: return False\n",
    "                q1.append(nodeP.left)\n",
    "                q1.append(nodeP.right)\n",
    "                q2.append(nodeQ.left)\n",
    "                q2.append(nodeQ.right)\n",
    "\n",
    "        return True"
   ]
  },
  {
   "cell_type": "code",
   "execution_count": null,
   "id": "e93e70e9",
   "metadata": {},
   "outputs": [],
   "source": [
    "    # 572 Subtree of Another Tree\n",
    "    def isSubtree(self, root, subroot):\n",
    "        \"\"\"\n",
    "        :type root: Optional[TreeNode]\n",
    "        :type subRoot: Optional[TreeNode]\n",
    "        :rtype: bool\n",
    "        \"\"\"\n",
    "        if not subroot: return True\n",
    "        if not root: return False\n",
    "        if self.sameTree(root, subroot): return True\n",
    "        return (self.isSubtree(root.left, subroot) or self.isSubtree(root.right, subroot))\n",
    "\n",
    "    def sameTree(self, root, subroot):\n",
    "        if not root and not subroot: return True\n",
    "        if root and subroot and root.val == subroot.val:\n",
    "            return (self.sameTree(root.left, subroot.left) and\n",
    "                   self.sameTree(root.right, subroot.right))\n",
    "        return False"
   ]
  }
 ],
 "metadata": {
  "kernelspec": {
   "display_name": "Python 3",
   "language": "python",
   "name": "python3"
  },
  "language_info": {
   "codemirror_mode": {
    "name": "ipython",
    "version": 3
   },
   "file_extension": ".py",
   "mimetype": "text/x-python",
   "name": "python",
   "nbconvert_exporter": "python",
   "pygments_lexer": "ipython3",
   "version": "3.11.9"
  }
 },
 "nbformat": 4,
 "nbformat_minor": 5
}
