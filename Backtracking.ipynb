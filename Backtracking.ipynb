{
 "cells": [
  {
   "cell_type": "code",
   "execution_count": 1,
   "id": "f12b29ca",
   "metadata": {},
   "outputs": [],
   "source": [
    "    # 78 Subsets\n",
    "    \"\"\"\n",
    "    Idea: For [1,2,3]\n",
    "    [[]] \n",
    "    Add 1: [[], [1]]\n",
    "    Add 2: [[], [1], [2], [1, 2]]\n",
    "    Add 3: [[], [1], [2], [1, 2], [3], [1, 3], [2, 3], [1, 2, 3]]\n",
    "    \"\"\"\n",
    "    def subsets(self, nums):\n",
    "        \"\"\"\n",
    "        :type nums: List[int]\n",
    "        :rtype: List[List[int]]\n",
    "        \"\"\"\n",
    "        res = [[]]\n",
    "        for num in nums:\n",
    "            res += [subset + [num] for subset in res]\n",
    "        return res"
   ]
  },
  {
   "cell_type": "code",
   "execution_count": 2,
   "id": "c7765f0f",
   "metadata": {},
   "outputs": [],
   "source": [
    "    # 39 Combination Sum\n",
    "    # Idea: For each num, find the combinations include the num and the nums after it`\n",
    "    def combinationSum(self, candidates, target):\n",
    "        \"\"\"\n",
    "        :type candidates: List[int]\n",
    "        :type target: int\n",
    "        :rtype: List[List[int]]\n",
    "        \"\"\"\n",
    "        res = []\n",
    "        def dfs(nums, target, path, res):\n",
    "            if target < 0: return\n",
    "            if target == 0:\n",
    "                res.append(path)\n",
    "                return\n",
    "            for i in range(len(nums)):\n",
    "                dfs(nums[i:], target-nums[i], path+[nums[i]], res)\n",
    "        dfs(candidates, target, [], res)\n",
    "        return res\n"
   ]
  },
  {
   "cell_type": "code",
   "execution_count": 3,
   "id": "7f6bd319",
   "metadata": {},
   "outputs": [],
   "source": [
    "    # 40 Combination Sum II\n",
    "    def combinationSum2(self, candidates, target):\n",
    "        \"\"\"\n",
    "        :type candidates: List[int]\n",
    "        :type target: int\n",
    "        :rtype: List[List[int]]\n",
    "        \"\"\"\n",
    "        res = []\n",
    "        candidates.sort()\n",
    "        def dfs(nums, target, path, res):\n",
    "            if target < 0: return\n",
    "            if target == 0:\n",
    "                res.append(path)\n",
    "                return\n",
    "            for i in range(len(nums)):\n",
    "                if i>=1:\n",
    "                    if nums[i]==nums[i-1]: continue\n",
    "                dfs(nums[i+1:], target-nums[i], path+[nums[i]], res)\n",
    "        dfs(candidates, target, [], res)\n",
    "        return res     \n",
    "        "
   ]
  },
  {
   "cell_type": "code",
   "execution_count": 1,
   "id": "a9b7b0fb",
   "metadata": {},
   "outputs": [],
   "source": [
    "    # 46 Permutations\n",
    "    \"\"\"\n",
    "    Idea: Loop through \n",
    "    Create a pick:List[bool]  that add new element until a new permutation is formed\n",
    "    Then pop the last element and un-pick it\n",
    "    \"\"\"\n",
    "    def permute(self, nums):\n",
    "        \"\"\"\n",
    "        :type nums: List[int]\n",
    "        :rtype: List[List[int]]\n",
    "        \"\"\"\n",
    "        self.res = []\n",
    "        self.backtrack([], nums, [False]*len(nums))\n",
    "        return self.res\n",
    "\n",
    "    def backtrack(self, perm, nums, pick):\n",
    "        if len(perm) == len(nums):\n",
    "            self.res.append(perm[:])\n",
    "            return\n",
    "        for i in range(len(nums)):\n",
    "            if not pick[i]:\n",
    "                perm.append(nums[i])\n",
    "                pick[i] = True\n",
    "                self.backtrack(perm, nums, pick)\n",
    "                perm.pop()\n",
    "                pick[i] = False\n"
   ]
  },
  {
   "cell_type": "code",
   "execution_count": null,
   "id": "1d611537",
   "metadata": {},
   "outputs": [],
   "source": []
  }
 ],
 "metadata": {
  "kernelspec": {
   "display_name": "Python 3",
   "language": "python",
   "name": "python3"
  },
  "language_info": {
   "codemirror_mode": {
    "name": "ipython",
    "version": 3
   },
   "file_extension": ".py",
   "mimetype": "text/x-python",
   "name": "python",
   "nbconvert_exporter": "python",
   "pygments_lexer": "ipython3",
   "version": "3.11.9"
  }
 },
 "nbformat": 4,
 "nbformat_minor": 5
}
