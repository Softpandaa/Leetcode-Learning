{
 "cells": [
  {
   "cell_type": "code",
   "execution_count": 1,
   "id": "d3075bcf",
   "metadata": {},
   "outputs": [],
   "source": [
    "    # 125 Valid Palindrome\n",
    "    \"\"\"Idea: Two pointer and move move if not alnum\"\"\"\n",
    "    def isPalindrome(self, s):\n",
    "        \"\"\"\n",
    "        :type s: str\n",
    "        :rtype: bool\n",
    "        \"\"\"\n",
    "        l = 0\n",
    "        r = len(s) - 1\n",
    "        while l<r:\n",
    "            while l<r and not s[l].isalnum(): l+=1\n",
    "            while l<r and not s[r].isalnum(): r-=1\n",
    "            if s[l].lower() != s[r].lower(): return False\n",
    "            l += 1\n",
    "            r -= 1\n",
    "        return True"
   ]
  },
  {
   "cell_type": "code",
   "execution_count": 2,
   "id": "1c2545df",
   "metadata": {},
   "outputs": [],
   "source": [
    "    # 167 Two Sum II\n",
    "    def twoSum(self, numbers, target):\n",
    "        \"\"\"\n",
    "        :type numbers: List[int]\n",
    "        :type target: int\n",
    "        :rtype: List[int]\n",
    "        \"\"\"\n",
    "        l, r = 0, len(numbers)-13\n",
    "        while l<r:\n",
    "            summ = numbers[l] + numbers[r]\n",
    "            if summ == target: return [l+1, r+1]\n",
    "            elif summ>target: r -= 1\n",
    "            else: l += 1\n",
    "        return []"
   ]
  },
  {
   "cell_type": "code",
   "execution_count": 3,
   "id": "40d257a5",
   "metadata": {},
   "outputs": [],
   "source": [
    "    # 15 3Sum\n",
    "    def threeSum(self, nums):\n",
    "        nums.sort() # Sort for Two Pointers\n",
    "        result = []\n",
    "        i = 0\n",
    "        prev = 1e6\n",
    "        for i in range(len(nums)):\n",
    "            if nums[i] > 0: break # Cannot sum to 0\n",
    "            if i>0 and nums[i] == nums[i-1]: continue\n",
    "            l=i+1; r=len(nums)-1\n",
    "            while l < r:\n",
    "                summ = nums[i] + nums[l] + nums[r]\n",
    "                if summ == 0: \n",
    "                    result.append([nums[i], nums[l], nums[r]])\n",
    "                    while l < r and nums[l] == nums[l+1]: l += 1\n",
    "                    while l < r and nums[r] == nums[r-1]: r -= 1\n",
    "                    l += 1; r-=1\n",
    "                elif summ>0: r -= 1\n",
    "                else: l += 1\n",
    "        return result"
   ]
  },
  {
   "cell_type": "code",
   "execution_count": 4,
   "id": "2a808be7",
   "metadata": {},
   "outputs": [],
   "source": [
    "    # 11 Container with most water\n",
    "    def maxArea(self, height):\n",
    "        \"\"\"\n",
    "        :type height: List[int]\n",
    "        :rtype: int\n",
    "        \"\"\"\n",
    "        l, r = 0, len(height)-1\n",
    "        maxwater = 0\n",
    "\n",
    "        while l<r:\n",
    "            height_l, height_r = height[l],height[r]\n",
    "            water = (r-l)*min(height_l, height_r)\n",
    "            if water > maxwater: maxwater = water\n",
    "            if height_l > height_r: r-=1\n",
    "            else: l+=1\n",
    "        return maxwater"
   ]
  },
  {
   "cell_type": "code",
   "execution_count": 5,
   "id": "7bee265f",
   "metadata": {},
   "outputs": [],
   "source": [
    "    # 42 Trapping Rain Water\n",
    "    \"\"\"Idea: if height[l]>height[l+1] then water += difference\n",
    "    if height[r]>height[r-1] then water += difference\"\"\"\n",
    "    def trap(self, height):\n",
    "        \"\"\"\n",
    "        :type height: List[int]\n",
    "        :rtype: int\n",
    "        \"\"\"\n",
    "        if not height: return 0\n",
    "        res = 0\n",
    "        l,r = 0, len(height)-1\n",
    "        lmax, rmax = height[l],height[r]\n",
    "        while l<r:\n",
    "            if lmax<rmax:\n",
    "                l+=1\n",
    "                lmax = max(lmax, height[l])\n",
    "                res += lmax - height[l]\n",
    "            else:\n",
    "                r-=1\n",
    "                rmax = max(rmax, height[r])\n",
    "                res += rmax - height[r]\n",
    "        return res\n",
    "        "
   ]
  },
  {
   "cell_type": "code",
   "execution_count": null,
   "id": "312a13d5",
   "metadata": {},
   "outputs": [],
   "source": []
  }
 ],
 "metadata": {
  "kernelspec": {
   "display_name": "Python 3",
   "language": "python",
   "name": "python3"
  },
  "language_info": {
   "codemirror_mode": {
    "name": "ipython",
    "version": 3
   },
   "file_extension": ".py",
   "mimetype": "text/x-python",
   "name": "python",
   "nbconvert_exporter": "python",
   "pygments_lexer": "ipython3",
   "version": "3.11.9"
  }
 },
 "nbformat": 4,
 "nbformat_minor": 5
}
