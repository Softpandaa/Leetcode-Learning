{
 "cells": [
  {
   "cell_type": "code",
   "execution_count": null,
   "id": "d2ff1e68",
   "metadata": {},
   "outputs": [],
   "source": [
    "    # 1691 Maximum Height by stacking cuboids\n",
    "    \"\"\"Idea: \n",
    "    1) Sort the cuboids\n",
    "    2) Define subproblem: For each cuboid, find the max stacking height\n",
    "        - If stack-able, add the max height\n",
    "    \"\"\"\n",
    "    def maxHeight(self, cuboids):\n",
    "        \"\"\"\n",
    "        :type cuboids: List[List[int]]\n",
    "        :rtype: int\n",
    "        \"\"\"\n",
    "        def canStack(top, bottom): \n",
    "            return top[0]<=bottom[0] and top[1]<=bottom[1] and top[2]<=bottom[2]\n",
    "        for cuboid in cuboids: cuboid.sort()\n",
    "        cuboids.sort()\n",
    "        heights = [x[2] for x in cuboids]\n",
    "        for i in range(1, len(cuboids)):\n",
    "            cuboid = cuboids[i]\n",
    "            canStackBox = [j for j in range(i) if canStack(cuboids[j], cuboid)]\n",
    "            if canStackBox: \n",
    "                heights[i] += max([heights[j] for j in canStackBox])\n",
    "        return max(heights)\n",
    "\n"
   ]
  },
  {
   "cell_type": "code",
   "execution_count": null,
   "id": "5797b62c",
   "metadata": {},
   "outputs": [],
   "source": []
  }
 ],
 "metadata": {
  "kernelspec": {
   "display_name": "Python 3",
   "language": "python",
   "name": "python3"
  },
  "language_info": {
   "name": "python",
   "version": "3.11.9"
  }
 },
 "nbformat": 4,
 "nbformat_minor": 5
}
