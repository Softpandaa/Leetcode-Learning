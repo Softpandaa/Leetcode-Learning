{
 "cells": [
  {
   "cell_type": "markdown",
   "id": "20a2acd1",
   "metadata": {},
   "source": [
    "## 509 Fibonacci numbers\n",
    "\n",
    "The Fibonacci numbers, commonly denoted F(n) form a sequence, called the Fibonacci sequence, such that each number is the sum of the two preceding ones, starting from 0 and 1.\n"
   ]
  },
  {
   "cell_type": "code",
   "execution_count": 1,
   "id": "c350204b",
   "metadata": {},
   "outputs": [],
   "source": [
    "def fib(n):\n",
    "    if n<2: return n\n",
    "    arr = [0]*(n+1)\n",
    "    arr[1]=1\n",
    "    for i in range(2,n+1):\n",
    "        arr[i] = arr[i-1]+arr[i-2]\n",
    "    return arr[n]\n",
    "\n",
    "def fib(n):\n",
    "    if n<2: return n\n",
    "    a,b = 0,1\n",
    "    for _ in range(2,n+1):\n",
    "        a,b = b,a+b\n",
    "    return b"
   ]
  },
  {
   "cell_type": "markdown",
   "id": "2b9d3103",
   "metadata": {},
   "source": [
    "# 746 Min Cost Climbing Stairs\n",
    "\n",
    "You are given an integer array cost where cost[i] is the cost of ith step on a staircase. Once you pay the cost, you can either climb one or two steps. $\\\\$\n",
    "You can either start from the step with index 0, or the step with index 1. $\\\\$\n",
    "Return the minimum cost to reach the top of the floor. $\\\\$\n"
   ]
  },
  {
   "cell_type": "code",
   "execution_count": 1,
   "id": "a2a9239a",
   "metadata": {},
   "outputs": [],
   "source": [
    "def minCostClimbingStairs(cost):\n",
    "    n = len(cost)\n",
    "    dp = [0]*n\n",
    "    dp[0] = cost[0]\n",
    "    if n>=2:\n",
    "        dp[1] = cost[1]\n",
    "        for i in range(2, n):\n",
    "            dp[i] = cost[i] + min(dp[i-1], dp[i-2])\n",
    "    return min(dp[-1], dp[-2])"
   ]
  },
  {
   "cell_type": "markdown",
   "id": "4d0a6a31",
   "metadata": {},
   "source": [
    "# 198 House Robber\n",
    "\n",
    "You are a professional robber planning to rob houses along a street. Each house has a certain amount of money stashed, the only constraint stopping you from robbing each of them is that adjacent houses have security systems connected and it will automatically contact the police if two adjacent houses were broken into on the same night. $\\\\$\n",
    "Given an integer array nums representing the amount of money of each house, return the maximum amount of money you can rob tonight without alerting the police.\n"
   ]
  },
  {
   "cell_type": "code",
   "execution_count": 3,
   "id": "11324d09",
   "metadata": {},
   "outputs": [],
   "source": [
    "def rob(nums):\n",
    "    rob, norob = 0, 0\n",
    "    for num in nums:\n",
    "        newRob = norob + num\n",
    "        newNoRob = max(norob, rob)\n",
    "        rob, norob = newRob, newNoRob\n",
    "    return max(rob, norob)"
   ]
  },
  {
   "cell_type": "markdown",
   "id": "bbfa3b59",
   "metadata": {},
   "source": [
    "# 1370 Increasing Decreasing String\n",
    "\n",
    "You are given a string s. Reorder the string using the following algorithm: $\\\\$\n",
    "\n",
    "1. Remove the smallest character from s and append it to the result. $\\\\$\n",
    "2. Remove the smallest character from s that is greater than the last appended character, and append it to the result. $\\\\$\n",
    "3. Repeat step 2 until no more characters can be removed. $\\\\$\n",
    "4. Remove the largest character from s and append it to the result. $\\\\$\n",
    "5. Remove the largest character from s that is smaller than the last appended character, and append it to the result. $\\\\$\n",
    "6. Repeat step 5 until no more characters can be removed. $\\\\$\n",
    "7. Repeat steps 1 through 6 until all characters from s have been removed. $\\\\$\n",
    "\n",
    "If the smallest or largest character appears more than once, you may choose any occurrence to append to the result. $\\\\$\n",
    "Return the resulting string after reordering s using this algorithm.\n"
   ]
  },
  {
   "cell_type": "code",
   "execution_count": 5,
   "id": "c87748ab",
   "metadata": {},
   "outputs": [],
   "source": [
    "def sortString(s):\n",
    "    d = sorted([c, n] for c, n in collections.Counter(s).items())\n",
    "    result = []\n",
    "    while len(result) < len(s):\n",
    "        for i in range(len(d)):\n",
    "            if d[i][1]:\n",
    "                result.append(d[i][0])\n",
    "                d[i][1] -= 1\n",
    "        for i in range(len(d)):\n",
    "            if d[~i][1]:\n",
    "                result.append(d[~i][0])\n",
    "                d[~i][1] -= 1\n",
    "    return ''.join(result)\n",
    "\n",
    "def sortString(s):\n",
    "    s = list(s)\n",
    "    result = []\n",
    "    while len(s)>0:\n",
    "        smallest = sorted(set(s))\n",
    "        for i in smallest:\n",
    "            result.append(i)\n",
    "            s.remove(i)\n",
    "        largest = sorted(set(s), reverse=True)\n",
    "        for i in largest:\n",
    "            result.append(i)\n",
    "            s.remove(i)\n",
    "    return ''.join(result)"
   ]
  },
  {
   "cell_type": "markdown",
   "id": "b2f5ff93",
   "metadata": {},
   "source": [
    "# 48 Rotate Image\n",
    "\n",
    "You are given an n x n 2D matrix representing an image, rotate the image by 90 degrees (clockwise). $\\\\$\n",
    "You have to rotate the image in-place, which means you have to modify the input 2D matrix directly. DO NOT allocate another 2D matrix and do the rotation.\n"
   ]
  },
  {
   "cell_type": "code",
   "execution_count": 6,
   "id": "ae785d22",
   "metadata": {},
   "outputs": [],
   "source": [
    "def rotate(self, matrix):\n",
    "    n = len(matrix)\n",
    "    l = 0; r=n-1\n",
    "    while l<r:\n",
    "        matrix[l], matrix[r] = matrix[r], matrix[l]\n",
    "        l+=1\n",
    "        r-=1\n",
    "    for i in range(n):\n",
    "        for j in range(i):\n",
    "            matrix[i][j], matrix[j][i] = matrix[j][i], matrix[i][j]\n",
    "    return matrix"
   ]
  },
  {
   "cell_type": "markdown",
   "id": "52d75077",
   "metadata": {},
   "source": [
    "# 152 Maximum Product Subarray\n",
    "\n",
    "Given an integer array nums, find a subarray that has the largest product, and return the product.\n"
   ]
  },
  {
   "cell_type": "code",
   "execution_count": 8,
   "id": "71e19162",
   "metadata": {},
   "outputs": [],
   "source": [
    "    def maxProduct(self, nums):\n",
    "        bmin = bmax = ans = nums[0]\n",
    "        for n in nums[1:]:\n",
    "            if n<0: bmin, bmax = bmax, bmin\n",
    "            bmax = max(n, bmax*n)\n",
    "            bmin = min(n, bmin*n)\n",
    "            ans = max(ans, bmax)\n",
    "        return ans"
   ]
  },
  {
   "cell_type": "markdown",
   "id": "205804d4",
   "metadata": {},
   "source": [
    "# 200 Number of Islands\n",
    "\n",
    "Given an m x n 2D binary grid grid which represents a map of '1's (land) and '0's (water), return the number of islands. $\\\\$\n",
    "An island is surrounded by water and is formed by connecting adjacent lands horizontally or vertically. You may assume all four edges of the grid are all surrounded by water.\n"
   ]
  },
  {
   "cell_type": "code",
   "execution_count": 9,
   "id": "f7e7dcdb",
   "metadata": {},
   "outputs": [],
   "source": [
    "def numIslands(grid):\n",
    "    if not grid: return 0\n",
    "    islands = 0\n",
    "    for r in range(len(grid)):\n",
    "        for c in range(len(grid[0])):\n",
    "            if grid[r][c] == \"1\":\n",
    "                dfs(grid, r, c)\n",
    "                islands += 1\n",
    "    return islands\n",
    "\n",
    "def dfs(grid, r, c):\n",
    "    if r<0 or r>=len(grid) or c<0 or c>=len(grid[0]) or grid[r][c] != \"1\":\n",
    "        return\n",
    "    grid[r][c] = \"#\"\n",
    "    dfs(grid, r+1, c)\n",
    "    dfs(grid, r-1, c)\n",
    "    dfs(grid, r, c+1)\n",
    "    dfs(grid, r, c-1)"
   ]
  },
  {
   "cell_type": "markdown",
   "id": "5599eef1",
   "metadata": {},
   "source": [
    "# 713 Subarray Product Less Than K\n",
    "\n",
    "Given an array of integers nums and an integer k, return the number of contiguous subarrays where the product of all the elements in the subarray is strictly less than k.\n"
   ]
  },
  {
   "cell_type": "code",
   "execution_count": 11,
   "id": "886ff295",
   "metadata": {},
   "outputs": [],
   "source": [
    "   def numSubarrayProductLessThanK(self, nums, k):\n",
    "        if min(nums)>=k: return 0  \n",
    "        l = 0\n",
    "        result = 0\n",
    "        product = 1\n",
    "        for r in range(len(nums)):\n",
    "            product *= nums[r]\n",
    "            while product >= k and l <= r:\n",
    "                product /= nums[l]\n",
    "                l += 1\n",
    "            result += r-l+1\n",
    "        return result"
   ]
  },
  {
   "cell_type": "code",
   "execution_count": null,
   "id": "48e7dee0",
   "metadata": {},
   "outputs": [],
   "source": []
  }
 ],
 "metadata": {
  "kernelspec": {
   "display_name": "Python 3",
   "language": "python",
   "name": "python3"
  },
  "language_info": {
   "codemirror_mode": {
    "name": "ipython",
    "version": 3
   },
   "file_extension": ".py",
   "mimetype": "text/x-python",
   "name": "python",
   "nbconvert_exporter": "python",
   "pygments_lexer": "ipython3",
   "version": "3.11.9"
  }
 },
 "nbformat": 4,
 "nbformat_minor": 5
}
