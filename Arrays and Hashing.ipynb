{
 "cells": [
  {
   "cell_type": "code",
   "execution_count": 1,
   "id": "3df18cb7",
   "metadata": {},
   "outputs": [],
   "source": [
    "    # 49 Group anagrams\n",
    "    \"\"\"Idea: string with same charaters will have the same sortedS\"\"\"\n",
    "    def groupAnagrams(self, strs):\n",
    "        \"\"\"\n",
    "        :type strs: List[str]\n",
    "        :rtype: List[List[str]]\n",
    "        \"\"\"\n",
    "        # defaultdict: returning the default value for the dictionary defined\n",
    "        result = defaultdict(list)\n",
    "        for s in strs:\n",
    "            sortedS = ''.join(sorted(s))\n",
    "            #print(sortedS)\n",
    "            result[sortedS].append(s)\n",
    "        return list(result.values())"
   ]
  },
  {
   "cell_type": "code",
   "execution_count": 2,
   "id": "5c4cce9e",
   "metadata": {},
   "outputs": [],
   "source": [
    "    # 347 Top K frequent elemens\n",
    "    \"\"\"Idea: Create a frequency counter, then sort it\"\"\"\n",
    "    def topKFrequent(self, nums, k):\n",
    "        \"\"\"\n",
    "        :type nums: List[int]\n",
    "        :type k: int\n",
    "        :rtype: List[int]\n",
    "        \"\"\"\n",
    "        d = sorted([[c, n] for c, n in collections.Counter(nums).items()], key = lambda x: x[1], reverse=True) # Freqency is in x[1]\n",
    "        result = []\n",
    "        for i in range(k):\n",
    "            result.append(d[i][0])\n",
    "        return result\n",
    "        "
   ]
  },
  {
   "cell_type": "code",
   "execution_count": 2,
   "id": "b5dcaf89",
   "metadata": {},
   "outputs": [],
   "source": [
    "    # 238 Product of array except self\n",
    "    \"\"\"Idea: Create a forward and backward list s.t. answer = forward*backward\"\"\"\n",
    "    def productExceptSelf(self, nums):\n",
    "        \"\"\"\n",
    "        :type nums: List[int]\n",
    "        :rtype: List[int]\n",
    "        \"\"\"\n",
    "        n = len(nums)\n",
    "        res = [0]*n\n",
    "        pref = [0]*n\n",
    "        suff = [0]*n\n",
    "        pref[0] = suff[n-1]=1\n",
    "        for i in range(1,n):\n",
    "            pref[i] = nums[i-1]*pref[i-1]\n",
    "        for i in range(n-2,-1,-1):\n",
    "            suff[i] = nums[i+1]*suff[i+1]\n",
    "        for i in range(n):\n",
    "            res[i] = pref[i]*suff[i]\n",
    "        return res"
   ]
  },
  {
   "cell_type": "code",
   "execution_count": 3,
   "id": "6797beb2",
   "metadata": {},
   "outputs": [],
   "source": [
    "    # 36 Valid Sudoku\n",
    "    \"\"\"Idea: Check 1) rows, 2) cols, 3) within the 3*3 square\"\"\"\n",
    "    def isValidSudoku(self, board):\n",
    "        \"\"\"\n",
    "        :type board: List[List[str]]\n",
    "        :rtype: bool\n",
    "        \"\"\"\n",
    "        cols = defaultdict(set) # set uses add, not append\n",
    "        rows = defaultdict(set)\n",
    "        squares = defaultdict(set)\n",
    "\n",
    "        for r in range(9):\n",
    "            for c in range(9):\n",
    "                current = board[r][c]\n",
    "                if current == \".\": continue\n",
    "                if (current in rows[r] or current in cols[c] \n",
    "                    or current in squares[(r//3, c//3)]):\n",
    "                    return False\n",
    "                cols[c].add(current)\n",
    "                rows[r].add(current)\n",
    "                squares[(r//3, c//3)].add(current)\n",
    "        return True"
   ]
  },
  {
   "cell_type": "code",
   "execution_count": 4,
   "id": "99226709",
   "metadata": {},
   "outputs": [],
   "source": [
    "    # 128 Longest Consective Sequence\n",
    "    def longestConsecutive(self, nums):\n",
    "        \"\"\"\n",
    "        :type nums: List[int]\n",
    "        :rtype: int\n",
    "        \"\"\"\n",
    "        # Identify the starting point iff n-1 doesn't exist\n",
    "        numSet = set(nums) # Making numSet is necessary, x in nums is O(N) but x in numSet is O(1)\n",
    "        longest = 0\n",
    "        for num in numSet:\n",
    "            if num-1 not in numSet:\n",
    "                length = 1\n",
    "                while (num+length) in numSet:\n",
    "                    length += 1\n",
    "                longest = max(length, longest)\n",
    "        return longest"
   ]
  },
  {
   "cell_type": "code",
   "execution_count": null,
   "id": "e3481544",
   "metadata": {},
   "outputs": [],
   "source": []
  }
 ],
 "metadata": {
  "kernelspec": {
   "display_name": "Python 3",
   "language": "python",
   "name": "python3"
  },
  "language_info": {
   "codemirror_mode": {
    "name": "ipython",
    "version": 3
   },
   "file_extension": ".py",
   "mimetype": "text/x-python",
   "name": "python",
   "nbconvert_exporter": "python",
   "pygments_lexer": "ipython3",
   "version": "3.11.9"
  }
 },
 "nbformat": 4,
 "nbformat_minor": 5
}
